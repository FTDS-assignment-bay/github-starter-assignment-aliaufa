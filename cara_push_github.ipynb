{
 "cells": [
  {
   "cell_type": "markdown",
   "metadata": {},
   "source": [
    "# Cara Clone dan Push ke Github dari Local\n",
    "\n",
    "## 1. Clone Repository\n",
    "\n",
    "Berikut cara clone dari SSH:\n",
    "1. buka repository-nya\n",
    "2. di bagian `<> Code` warna hijau, copy URL dari tab SSH\n",
    "3. buka terminal di directory local dimana kalian akan clone repo\n",
    "4. di terminal tulis `git clone <url yang di copy>`\n",
    "5. akan terbuat folder hasil clone di directory-nya\n",
    "\n",
    "Setelah ada hasil clone, kita bekerja di folder repository tersebut.\n",
    "\n",
    "## 2. Add and Commit files\n",
    "\n",
    "Setelah ada perubahan file di folder repo yang ingin kita track perubahannya maka harus kita lakukan add dan commit. caranya:\n",
    "1. di terminal (pastikan directorynya sudah repository) cek status files dengan `git status`\n",
    "2. jika ada perubahan dari file apapun akan diindikasikan dengan warna merah\n",
    "3. untuk track perubahan lakukan `git add <nama file>` atau juka banyak bisa `git add .` untuk track semua perubahan pada semua file sekaligus.\n",
    "4. kalau mau lihat status setelah di add harusnya warnanya hijau.\n",
    "5. gunakan `git commit -m \"pesan commit\" untuk menandakan batch perubahan\n",
    "\n",
    "## 3. Push and Pull to github\n",
    "1. setelah ada commit yang mau dimasukan ke github bisa lakukan `git push`\n",
    "2. kalau kita menggunakan device yang berbeda dan ada clone di device masing-masing, sebelum mengerjakan apa-apa lakukan `git pull`"
   ]
  }
 ],
 "metadata": {
  "language_info": {
   "name": "python"
  }
 },
 "nbformat": 4,
 "nbformat_minor": 2
}
